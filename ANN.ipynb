{
  "nbformat": 4,
  "nbformat_minor": 0,
  "metadata": {
    "colab": {
      "name": "ANN.ipynb",
      "version": "0.3.2",
      "provenance": [],
      "include_colab_link": true
    },
    "language_info": {
      "codemirror_mode": {
        "name": "ipython",
        "version": 3
      },
      "file_extension": ".py",
      "mimetype": "text/x-python",
      "name": "python",
      "nbconvert_exporter": "python",
      "pygments_lexer": "ipython3",
      "version": "3.6.7"
    },
    "kernelspec": {
      "name": "python3",
      "display_name": "Python 3"
    },
    "accelerator": "GPU"
  },
  "cells": [
    {
      "cell_type": "markdown",
      "metadata": {
        "id": "view-in-github",
        "colab_type": "text"
      },
      "source": [
        "<a href=\"https://colab.research.google.com/github/daeven7/OpenStreetBrowser/blob/master/ANN.ipynb\" target=\"_parent\"><img src=\"https://colab.research.google.com/assets/colab-badge.svg\" alt=\"Open In Colab\"/></a>"
      ]
    },
    {
      "cell_type": "code",
      "metadata": {
        "id": "6p6hVq36xncm",
        "colab_type": "code",
        "colab": {
          "resources": {
            "http://localhost:8080/nbextensions/google.colab/files.js": {
              "data": "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",
              "ok": true,
              "headers": [
                [
                  "content-type",
                  "application/javascript"
                ]
              ],
              "status": 200,
              "status_text": ""
            }
          },
          "base_uri": "https://localhost:8080/",
          "height": 74
        },
        "outputId": "d4030f44-fbac-4242-e38d-d49878d79fb9"
      },
      "source": [
        "from google.colab import files\n",
        "uploaded = files.upload()"
      ],
      "execution_count": 2,
      "outputs": [
        {
          "output_type": "display_data",
          "data": {
            "text/html": [
              "\n",
              "     <input type=\"file\" id=\"files-658b6826-3051-49ec-b9ca-071c215def08\" name=\"files[]\" multiple disabled />\n",
              "     <output id=\"result-658b6826-3051-49ec-b9ca-071c215def08\">\n",
              "      Upload widget is only available when the cell has been executed in the\n",
              "      current browser session. Please rerun this cell to enable.\n",
              "      </output>\n",
              "      <script src=\"/nbextensions/google.colab/files.js\"></script> "
            ],
            "text/plain": [
              "<IPython.core.display.HTML object>"
            ]
          },
          "metadata": {
            "tags": []
          }
        },
        {
          "output_type": "stream",
          "text": [
            "Saving Churn_Modelling.csv to Churn_Modelling.csv\n"
          ],
          "name": "stdout"
        }
      ]
    },
    {
      "cell_type": "code",
      "metadata": {
        "id": "tIaBnxt-yQbC",
        "colab_type": "code",
        "colab": {
          "base_uri": "https://localhost:8080/",
          "height": 379
        },
        "outputId": "f95783dc-50e4-45ed-d9b7-d2c7f7ec0d18"
      },
      "source": [
        "import pandas as pd\n",
        "import numpy as np\n",
        "import matplotlib.pyplot as plt\n",
        "import os\n",
        "#os.chdir(\"/home/daeven/Desktop/ml A-Z/Machine Learning A-Z Template Folder/Part 8 - Deep Learning/Section 39 - Artificial Neural Networks (ANN)\")\n",
        "ds = pd.read_csv('Churn_Modelling.csv')\n",
        "ds.head(10)\n"
      ],
      "execution_count": 3,
      "outputs": [
        {
          "output_type": "execute_result",
          "data": {
            "text/html": [
              "<div>\n",
              "<style scoped>\n",
              "    .dataframe tbody tr th:only-of-type {\n",
              "        vertical-align: middle;\n",
              "    }\n",
              "\n",
              "    .dataframe tbody tr th {\n",
              "        vertical-align: top;\n",
              "    }\n",
              "\n",
              "    .dataframe thead th {\n",
              "        text-align: right;\n",
              "    }\n",
              "</style>\n",
              "<table border=\"1\" class=\"dataframe\">\n",
              "  <thead>\n",
              "    <tr style=\"text-align: right;\">\n",
              "      <th></th>\n",
              "      <th>RowNumber</th>\n",
              "      <th>CustomerId</th>\n",
              "      <th>Surname</th>\n",
              "      <th>CreditScore</th>\n",
              "      <th>Geography</th>\n",
              "      <th>Gender</th>\n",
              "      <th>Age</th>\n",
              "      <th>Tenure</th>\n",
              "      <th>Balance</th>\n",
              "      <th>NumOfProducts</th>\n",
              "      <th>HasCrCard</th>\n",
              "      <th>IsActiveMember</th>\n",
              "      <th>EstimatedSalary</th>\n",
              "      <th>Exited</th>\n",
              "    </tr>\n",
              "  </thead>\n",
              "  <tbody>\n",
              "    <tr>\n",
              "      <th>0</th>\n",
              "      <td>1</td>\n",
              "      <td>15634602</td>\n",
              "      <td>Hargrave</td>\n",
              "      <td>619</td>\n",
              "      <td>France</td>\n",
              "      <td>Female</td>\n",
              "      <td>42</td>\n",
              "      <td>2</td>\n",
              "      <td>0.00</td>\n",
              "      <td>1</td>\n",
              "      <td>1</td>\n",
              "      <td>1</td>\n",
              "      <td>101348.88</td>\n",
              "      <td>1</td>\n",
              "    </tr>\n",
              "    <tr>\n",
              "      <th>1</th>\n",
              "      <td>2</td>\n",
              "      <td>15647311</td>\n",
              "      <td>Hill</td>\n",
              "      <td>608</td>\n",
              "      <td>Spain</td>\n",
              "      <td>Female</td>\n",
              "      <td>41</td>\n",
              "      <td>1</td>\n",
              "      <td>83807.86</td>\n",
              "      <td>1</td>\n",
              "      <td>0</td>\n",
              "      <td>1</td>\n",
              "      <td>112542.58</td>\n",
              "      <td>0</td>\n",
              "    </tr>\n",
              "    <tr>\n",
              "      <th>2</th>\n",
              "      <td>3</td>\n",
              "      <td>15619304</td>\n",
              "      <td>Onio</td>\n",
              "      <td>502</td>\n",
              "      <td>France</td>\n",
              "      <td>Female</td>\n",
              "      <td>42</td>\n",
              "      <td>8</td>\n",
              "      <td>159660.80</td>\n",
              "      <td>3</td>\n",
              "      <td>1</td>\n",
              "      <td>0</td>\n",
              "      <td>113931.57</td>\n",
              "      <td>1</td>\n",
              "    </tr>\n",
              "    <tr>\n",
              "      <th>3</th>\n",
              "      <td>4</td>\n",
              "      <td>15701354</td>\n",
              "      <td>Boni</td>\n",
              "      <td>699</td>\n",
              "      <td>France</td>\n",
              "      <td>Female</td>\n",
              "      <td>39</td>\n",
              "      <td>1</td>\n",
              "      <td>0.00</td>\n",
              "      <td>2</td>\n",
              "      <td>0</td>\n",
              "      <td>0</td>\n",
              "      <td>93826.63</td>\n",
              "      <td>0</td>\n",
              "    </tr>\n",
              "    <tr>\n",
              "      <th>4</th>\n",
              "      <td>5</td>\n",
              "      <td>15737888</td>\n",
              "      <td>Mitchell</td>\n",
              "      <td>850</td>\n",
              "      <td>Spain</td>\n",
              "      <td>Female</td>\n",
              "      <td>43</td>\n",
              "      <td>2</td>\n",
              "      <td>125510.82</td>\n",
              "      <td>1</td>\n",
              "      <td>1</td>\n",
              "      <td>1</td>\n",
              "      <td>79084.10</td>\n",
              "      <td>0</td>\n",
              "    </tr>\n",
              "    <tr>\n",
              "      <th>5</th>\n",
              "      <td>6</td>\n",
              "      <td>15574012</td>\n",
              "      <td>Chu</td>\n",
              "      <td>645</td>\n",
              "      <td>Spain</td>\n",
              "      <td>Male</td>\n",
              "      <td>44</td>\n",
              "      <td>8</td>\n",
              "      <td>113755.78</td>\n",
              "      <td>2</td>\n",
              "      <td>1</td>\n",
              "      <td>0</td>\n",
              "      <td>149756.71</td>\n",
              "      <td>1</td>\n",
              "    </tr>\n",
              "    <tr>\n",
              "      <th>6</th>\n",
              "      <td>7</td>\n",
              "      <td>15592531</td>\n",
              "      <td>Bartlett</td>\n",
              "      <td>822</td>\n",
              "      <td>France</td>\n",
              "      <td>Male</td>\n",
              "      <td>50</td>\n",
              "      <td>7</td>\n",
              "      <td>0.00</td>\n",
              "      <td>2</td>\n",
              "      <td>1</td>\n",
              "      <td>1</td>\n",
              "      <td>10062.80</td>\n",
              "      <td>0</td>\n",
              "    </tr>\n",
              "    <tr>\n",
              "      <th>7</th>\n",
              "      <td>8</td>\n",
              "      <td>15656148</td>\n",
              "      <td>Obinna</td>\n",
              "      <td>376</td>\n",
              "      <td>Germany</td>\n",
              "      <td>Female</td>\n",
              "      <td>29</td>\n",
              "      <td>4</td>\n",
              "      <td>115046.74</td>\n",
              "      <td>4</td>\n",
              "      <td>1</td>\n",
              "      <td>0</td>\n",
              "      <td>119346.88</td>\n",
              "      <td>1</td>\n",
              "    </tr>\n",
              "    <tr>\n",
              "      <th>8</th>\n",
              "      <td>9</td>\n",
              "      <td>15792365</td>\n",
              "      <td>He</td>\n",
              "      <td>501</td>\n",
              "      <td>France</td>\n",
              "      <td>Male</td>\n",
              "      <td>44</td>\n",
              "      <td>4</td>\n",
              "      <td>142051.07</td>\n",
              "      <td>2</td>\n",
              "      <td>0</td>\n",
              "      <td>1</td>\n",
              "      <td>74940.50</td>\n",
              "      <td>0</td>\n",
              "    </tr>\n",
              "    <tr>\n",
              "      <th>9</th>\n",
              "      <td>10</td>\n",
              "      <td>15592389</td>\n",
              "      <td>H?</td>\n",
              "      <td>684</td>\n",
              "      <td>France</td>\n",
              "      <td>Male</td>\n",
              "      <td>27</td>\n",
              "      <td>2</td>\n",
              "      <td>134603.88</td>\n",
              "      <td>1</td>\n",
              "      <td>1</td>\n",
              "      <td>1</td>\n",
              "      <td>71725.73</td>\n",
              "      <td>0</td>\n",
              "    </tr>\n",
              "  </tbody>\n",
              "</table>\n",
              "</div>"
            ],
            "text/plain": [
              "   RowNumber  CustomerId   Surname  ...  IsActiveMember EstimatedSalary Exited\n",
              "0          1    15634602  Hargrave  ...               1       101348.88      1\n",
              "1          2    15647311      Hill  ...               1       112542.58      0\n",
              "2          3    15619304      Onio  ...               0       113931.57      1\n",
              "3          4    15701354      Boni  ...               0        93826.63      0\n",
              "4          5    15737888  Mitchell  ...               1        79084.10      0\n",
              "5          6    15574012       Chu  ...               0       149756.71      1\n",
              "6          7    15592531  Bartlett  ...               1        10062.80      0\n",
              "7          8    15656148    Obinna  ...               0       119346.88      1\n",
              "8          9    15792365        He  ...               1        74940.50      0\n",
              "9         10    15592389        H?  ...               1        71725.73      0\n",
              "\n",
              "[10 rows x 14 columns]"
            ]
          },
          "metadata": {
            "tags": []
          },
          "execution_count": 3
        }
      ]
    },
    {
      "cell_type": "code",
      "metadata": {
        "id": "qKurconYxnc5",
        "colab_type": "code",
        "colab": {}
      },
      "source": [
        "# Importing the ds\n",
        "\n",
        "x = ds.iloc[:, 3:13].values\n",
        "y = ds.iloc[:, 13:].values\n",
        "\n"
      ],
      "execution_count": 0,
      "outputs": []
    },
    {
      "cell_type": "code",
      "metadata": {
        "id": "KSHsylBYxnc_",
        "colab_type": "code",
        "colab": {
          "base_uri": "https://localhost:8080/",
          "height": 139
        },
        "outputId": "6356f631-f658-4dac-e3d4-6e5b8a37992c"
      },
      "source": [
        "# Encoding categorical data\n",
        "from sklearn.preprocessing import LabelEncoder, OneHotEncoder\n",
        "\n",
        "labelencoder_x_1 = LabelEncoder()\n",
        "x[:, 1] = labelencoder_x_1.fit_transform(x[:, 1]) #countries\n",
        "\n",
        "labelencoder_x_2 = LabelEncoder()   #gender\n",
        "x[:, 2] = labelencoder_x_2.fit_transform(x[:, 2])\n",
        "\n",
        "onehotencoder = OneHotEncoder(categorical_features = [1])\n",
        "x = onehotencoder.fit_transform(x).toarray()\n",
        "x = x[:, 1:]  # to prevent dummy variable trap\n",
        "\n"
      ],
      "execution_count": 5,
      "outputs": [
        {
          "output_type": "stream",
          "text": [
            "/usr/local/lib/python3.6/dist-packages/sklearn/preprocessing/_encoders.py:415: FutureWarning: The handling of integer data will change in version 0.22. Currently, the categories are determined based on the range [0, max(values)], while in the future they will be determined based on the unique values.\n",
            "If you want the future behaviour and silence this warning, you can specify \"categories='auto'\".\n",
            "In case you used a LabelEncoder before this OneHotEncoder to convert the categories to integers, then you can now use the OneHotEncoder directly.\n",
            "  warnings.warn(msg, FutureWarning)\n",
            "/usr/local/lib/python3.6/dist-packages/sklearn/preprocessing/_encoders.py:451: DeprecationWarning: The 'categorical_features' keyword is deprecated in version 0.20 and will be removed in 0.22. You can use the ColumnTransformer instead.\n",
            "  \"use the ColumnTransformer instead.\", DeprecationWarning)\n"
          ],
          "name": "stderr"
        }
      ]
    },
    {
      "cell_type": "code",
      "metadata": {
        "id": "TJkEiQP8xndG",
        "colab_type": "code",
        "colab": {}
      },
      "source": [
        "# Splitting the ds into the Training set and Test set\n",
        "from sklearn.model_selection import train_test_split\n",
        "x_train, x_test, y_train, y_test = train_test_split(x, y, test_size = 0.25, random_state = 0)\n",
        "\n",
        "# Feature Scaling\n",
        "from sklearn.preprocessing import StandardScaler\n",
        "sc = StandardScaler()\n",
        "x_train = sc.fit_transform(x_train)\n",
        "x_test = sc.transform(x_test)\n",
        "\n"
      ],
      "execution_count": 0,
      "outputs": []
    },
    {
      "cell_type": "code",
      "metadata": {
        "id": "d7wbUs2exndN",
        "colab_type": "code",
        "colab": {}
      },
      "source": [
        ""
      ],
      "execution_count": 0,
      "outputs": []
    },
    {
      "cell_type": "code",
      "metadata": {
        "id": "zPeuChhJxndW",
        "colab_type": "code",
        "colab": {
          "base_uri": "https://localhost:8080/",
          "height": 360
        },
        "outputId": "b9c59179-2e51-44bf-e878-c76610f4352d"
      },
      "source": [
        "#building the ann\n",
        "import keras\n",
        "from keras.models import Sequential\n",
        "from keras.layers import Dense\n",
        "\n",
        "#initialising ann\n",
        "classifier=Sequential()\n",
        "\n",
        "#adding imput layer and hidden layer\n",
        "#output_dim specifies number of nodes in hidden layer\n",
        "#in this case the average is taken \n",
        "# ie average  of nodes in input layer and output layer\n",
        "#11+1/2=6\n",
        "# init randomly initialises weights of nodes to close to 0_\n",
        "# rectifier functionn is chosen for hidden layer (relu)\n",
        "classifier.add(Dense(output_dim=6, init='uniform', activation='relu', input_dim=11))\n",
        "\n",
        "#adding another hidden layer\n",
        "classifier.add(Dense(output_dim=6, init='uniform', activation='relu'))\n",
        "\n",
        "#adding output layer\n",
        "#sigmoid function is used in the output layer\n",
        "classifier.add(Dense(output_dim=1, init='uniform', activation='sigmoid'))\n",
        "\n",
        "#compiling the ann\n",
        "#adam is a type of stochastic gradient descent\n",
        "#optimizer is used as the converging function to find the optimal weights\n",
        "#loss calculates the error in order to optiize the weights\n",
        "# use categorical_crossentropy in case output is non binary\n",
        "classifier.compile(optimizer='adam', loss='binary_crossentropy', metrics=['accuracy'])"
      ],
      "execution_count": 8,
      "outputs": [
        {
          "output_type": "stream",
          "text": [
            "Using TensorFlow backend.\n",
            "WARNING: Logging before flag parsing goes to stderr.\n",
            "W0705 15:44:24.857700 140346809710464 deprecation_wrapper.py:119] From /usr/local/lib/python3.6/dist-packages/keras/backend/tensorflow_backend.py:74: The name tf.get_default_graph is deprecated. Please use tf.compat.v1.get_default_graph instead.\n",
            "\n",
            "/usr/local/lib/python3.6/dist-packages/ipykernel_launcher.py:15: UserWarning: Update your `Dense` call to the Keras 2 API: `Dense(activation=\"relu\", input_dim=11, units=6, kernel_initializer=\"uniform\")`\n",
            "  from ipykernel import kernelapp as app\n",
            "W0705 15:44:24.895420 140346809710464 deprecation_wrapper.py:119] From /usr/local/lib/python3.6/dist-packages/keras/backend/tensorflow_backend.py:517: The name tf.placeholder is deprecated. Please use tf.compat.v1.placeholder instead.\n",
            "\n",
            "W0705 15:44:24.901771 140346809710464 deprecation_wrapper.py:119] From /usr/local/lib/python3.6/dist-packages/keras/backend/tensorflow_backend.py:4138: The name tf.random_uniform is deprecated. Please use tf.random.uniform instead.\n",
            "\n",
            "/usr/local/lib/python3.6/dist-packages/ipykernel_launcher.py:18: UserWarning: Update your `Dense` call to the Keras 2 API: `Dense(activation=\"relu\", units=6, kernel_initializer=\"uniform\")`\n",
            "/usr/local/lib/python3.6/dist-packages/ipykernel_launcher.py:22: UserWarning: Update your `Dense` call to the Keras 2 API: `Dense(activation=\"sigmoid\", units=1, kernel_initializer=\"uniform\")`\n",
            "W0705 15:44:24.940060 140346809710464 deprecation_wrapper.py:119] From /usr/local/lib/python3.6/dist-packages/keras/optimizers.py:790: The name tf.train.Optimizer is deprecated. Please use tf.compat.v1.train.Optimizer instead.\n",
            "\n",
            "W0705 15:44:24.958241 140346809710464 deprecation_wrapper.py:119] From /usr/local/lib/python3.6/dist-packages/keras/backend/tensorflow_backend.py:3376: The name tf.log is deprecated. Please use tf.math.log instead.\n",
            "\n",
            "W0705 15:44:24.962938 140346809710464 deprecation.py:323] From /usr/local/lib/python3.6/dist-packages/tensorflow/python/ops/nn_impl.py:180: add_dispatch_support.<locals>.wrapper (from tensorflow.python.ops.array_ops) is deprecated and will be removed in a future version.\n",
            "Instructions for updating:\n",
            "Use tf.where in 2.0, which has the same broadcast rule as np.where\n"
          ],
          "name": "stderr"
        }
      ]
    },
    {
      "cell_type": "code",
      "metadata": {
        "id": "KLwJV2bgxndg",
        "colab_type": "code",
        "colab": {
          "base_uri": "https://localhost:8080/",
          "height": 1000
        },
        "outputId": "367250da-cfb2-4cda-f21a-599e48a0bcc8"
      },
      "source": [
        "#fitting the ann to dataset\n",
        "#weights adjusted after a batch of 32\n",
        "classifier.fit(x_train,  y_train, batch_size=10, nb_epoch=100)"
      ],
      "execution_count": 9,
      "outputs": [
        {
          "output_type": "stream",
          "text": [
            "/usr/local/lib/python3.6/dist-packages/ipykernel_launcher.py:1: UserWarning: The `nb_epoch` argument in `fit` has been renamed `epochs`.\n",
            "  \"\"\"Entry point for launching an IPython kernel.\n",
            "W0705 15:44:42.492148 140346809710464 deprecation_wrapper.py:119] From /usr/local/lib/python3.6/dist-packages/keras/backend/tensorflow_backend.py:986: The name tf.assign_add is deprecated. Please use tf.compat.v1.assign_add instead.\n",
            "\n"
          ],
          "name": "stderr"
        },
        {
          "output_type": "stream",
          "text": [
            "Epoch 1/100\n",
            "7500/7500 [==============================] - 6s 798us/step - loss: 0.4991 - acc: 0.7955\n",
            "Epoch 2/100\n",
            "7500/7500 [==============================] - 2s 294us/step - loss: 0.4303 - acc: 0.7963\n",
            "Epoch 3/100\n",
            "7500/7500 [==============================] - 2s 290us/step - loss: 0.4254 - acc: 0.7963\n",
            "Epoch 4/100\n",
            "7500/7500 [==============================] - 2s 290us/step - loss: 0.4213 - acc: 0.8005\n",
            "Epoch 5/100\n",
            "7500/7500 [==============================] - 2s 288us/step - loss: 0.4188 - acc: 0.8220\n",
            "Epoch 6/100\n",
            "7500/7500 [==============================] - 2s 289us/step - loss: 0.4166 - acc: 0.8260\n",
            "Epoch 7/100\n",
            "7500/7500 [==============================] - 2s 295us/step - loss: 0.4146 - acc: 0.8284\n",
            "Epoch 8/100\n",
            "7500/7500 [==============================] - 2s 294us/step - loss: 0.4138 - acc: 0.8287\n",
            "Epoch 9/100\n",
            "7500/7500 [==============================] - 2s 296us/step - loss: 0.4117 - acc: 0.8297\n",
            "Epoch 10/100\n",
            "7500/7500 [==============================] - 2s 292us/step - loss: 0.4111 - acc: 0.8317\n",
            "Epoch 11/100\n",
            "7500/7500 [==============================] - 2s 291us/step - loss: 0.4101 - acc: 0.8329\n",
            "Epoch 12/100\n",
            "7500/7500 [==============================] - 2s 288us/step - loss: 0.4090 - acc: 0.8321\n",
            "Epoch 13/100\n",
            "7500/7500 [==============================] - 2s 291us/step - loss: 0.4085 - acc: 0.8332\n",
            "Epoch 14/100\n",
            "7500/7500 [==============================] - 2s 290us/step - loss: 0.4072 - acc: 0.8339\n",
            "Epoch 15/100\n",
            "7500/7500 [==============================] - 2s 293us/step - loss: 0.4068 - acc: 0.8341\n",
            "Epoch 16/100\n",
            "7500/7500 [==============================] - 2s 292us/step - loss: 0.4061 - acc: 0.8343\n",
            "Epoch 17/100\n",
            "7500/7500 [==============================] - 2s 290us/step - loss: 0.4057 - acc: 0.8333\n",
            "Epoch 18/100\n",
            "7500/7500 [==============================] - 2s 290us/step - loss: 0.4053 - acc: 0.8325\n",
            "Epoch 19/100\n",
            "7500/7500 [==============================] - 2s 291us/step - loss: 0.4045 - acc: 0.8345\n",
            "Epoch 20/100\n",
            "7500/7500 [==============================] - 2s 294us/step - loss: 0.4045 - acc: 0.8345\n",
            "Epoch 21/100\n",
            "7500/7500 [==============================] - 2s 290us/step - loss: 0.4040 - acc: 0.8328\n",
            "Epoch 22/100\n",
            "7500/7500 [==============================] - 2s 291us/step - loss: 0.4037 - acc: 0.8345\n",
            "Epoch 23/100\n",
            "7500/7500 [==============================] - 2s 291us/step - loss: 0.4036 - acc: 0.8339\n",
            "Epoch 24/100\n",
            "7500/7500 [==============================] - 2s 288us/step - loss: 0.4035 - acc: 0.8337\n",
            "Epoch 25/100\n",
            "7500/7500 [==============================] - 2s 290us/step - loss: 0.4028 - acc: 0.8359\n",
            "Epoch 26/100\n",
            "7500/7500 [==============================] - 2s 291us/step - loss: 0.4032 - acc: 0.8329\n",
            "Epoch 27/100\n",
            "7500/7500 [==============================] - 2s 290us/step - loss: 0.4026 - acc: 0.8339\n",
            "Epoch 28/100\n",
            "7500/7500 [==============================] - 2s 288us/step - loss: 0.4028 - acc: 0.8335\n",
            "Epoch 29/100\n",
            "7500/7500 [==============================] - 2s 292us/step - loss: 0.4026 - acc: 0.8340\n",
            "Epoch 30/100\n",
            "7500/7500 [==============================] - 2s 294us/step - loss: 0.4024 - acc: 0.8345\n",
            "Epoch 31/100\n",
            "7500/7500 [==============================] - 2s 294us/step - loss: 0.4023 - acc: 0.8324\n",
            "Epoch 32/100\n",
            "7500/7500 [==============================] - 2s 293us/step - loss: 0.4024 - acc: 0.8352\n",
            "Epoch 33/100\n",
            "7500/7500 [==============================] - 2s 293us/step - loss: 0.4024 - acc: 0.8347\n",
            "Epoch 34/100\n",
            "7500/7500 [==============================] - 2s 293us/step - loss: 0.4019 - acc: 0.8335\n",
            "Epoch 35/100\n",
            "7500/7500 [==============================] - 2s 289us/step - loss: 0.4023 - acc: 0.8351\n",
            "Epoch 36/100\n",
            "7500/7500 [==============================] - 2s 290us/step - loss: 0.4021 - acc: 0.8347\n",
            "Epoch 37/100\n",
            "7500/7500 [==============================] - 2s 291us/step - loss: 0.4016 - acc: 0.8341\n",
            "Epoch 38/100\n",
            "7500/7500 [==============================] - 2s 289us/step - loss: 0.4013 - acc: 0.8352\n",
            "Epoch 39/100\n",
            "7500/7500 [==============================] - 2s 288us/step - loss: 0.4013 - acc: 0.8343\n",
            "Epoch 40/100\n",
            "7500/7500 [==============================] - 2s 290us/step - loss: 0.4017 - acc: 0.8340\n",
            "Epoch 41/100\n",
            "7500/7500 [==============================] - 2s 293us/step - loss: 0.4016 - acc: 0.8349\n",
            "Epoch 42/100\n",
            "7500/7500 [==============================] - 2s 289us/step - loss: 0.4011 - acc: 0.8340\n",
            "Epoch 43/100\n",
            "7500/7500 [==============================] - 2s 290us/step - loss: 0.4015 - acc: 0.8340\n",
            "Epoch 44/100\n",
            "7500/7500 [==============================] - 2s 288us/step - loss: 0.4014 - acc: 0.8333\n",
            "Epoch 45/100\n",
            "7500/7500 [==============================] - 2s 291us/step - loss: 0.4012 - acc: 0.8347\n",
            "Epoch 46/100\n",
            "7500/7500 [==============================] - 2s 291us/step - loss: 0.4015 - acc: 0.8344\n",
            "Epoch 47/100\n",
            "7500/7500 [==============================] - 2s 289us/step - loss: 0.4011 - acc: 0.8336\n",
            "Epoch 48/100\n",
            "7500/7500 [==============================] - 2s 290us/step - loss: 0.4014 - acc: 0.8344\n",
            "Epoch 49/100\n",
            "7500/7500 [==============================] - 2s 288us/step - loss: 0.4012 - acc: 0.8344\n",
            "Epoch 50/100\n",
            "7500/7500 [==============================] - 2s 289us/step - loss: 0.4009 - acc: 0.8321\n",
            "Epoch 51/100\n",
            "7500/7500 [==============================] - 2s 292us/step - loss: 0.4008 - acc: 0.8344\n",
            "Epoch 52/100\n",
            "7500/7500 [==============================] - 2s 292us/step - loss: 0.4011 - acc: 0.8329\n",
            "Epoch 53/100\n",
            "7500/7500 [==============================] - 2s 291us/step - loss: 0.4009 - acc: 0.8335\n",
            "Epoch 54/100\n",
            "7500/7500 [==============================] - 2s 289us/step - loss: 0.4006 - acc: 0.8336\n",
            "Epoch 55/100\n",
            "7500/7500 [==============================] - 2s 291us/step - loss: 0.4008 - acc: 0.8340\n",
            "Epoch 56/100\n",
            "7500/7500 [==============================] - 2s 291us/step - loss: 0.4007 - acc: 0.8339\n",
            "Epoch 57/100\n",
            "7500/7500 [==============================] - 2s 290us/step - loss: 0.4006 - acc: 0.8351\n",
            "Epoch 58/100\n",
            "7500/7500 [==============================] - 2s 289us/step - loss: 0.4007 - acc: 0.8344\n",
            "Epoch 59/100\n",
            "7500/7500 [==============================] - 2s 289us/step - loss: 0.4009 - acc: 0.8347\n",
            "Epoch 60/100\n",
            "7500/7500 [==============================] - 2s 288us/step - loss: 0.4004 - acc: 0.8343\n",
            "Epoch 61/100\n",
            "7500/7500 [==============================] - 2s 290us/step - loss: 0.4008 - acc: 0.8335\n",
            "Epoch 62/100\n",
            "7500/7500 [==============================] - 2s 292us/step - loss: 0.4008 - acc: 0.8332\n",
            "Epoch 63/100\n",
            "7500/7500 [==============================] - 2s 288us/step - loss: 0.4007 - acc: 0.8344\n",
            "Epoch 64/100\n",
            "7500/7500 [==============================] - 2s 287us/step - loss: 0.4005 - acc: 0.8340\n",
            "Epoch 65/100\n",
            "7500/7500 [==============================] - 2s 292us/step - loss: 0.4007 - acc: 0.8337\n",
            "Epoch 66/100\n",
            "7500/7500 [==============================] - 2s 291us/step - loss: 0.4005 - acc: 0.8347\n",
            "Epoch 67/100\n",
            "7500/7500 [==============================] - 2s 294us/step - loss: 0.4004 - acc: 0.8348\n",
            "Epoch 68/100\n",
            "7500/7500 [==============================] - 2s 301us/step - loss: 0.4004 - acc: 0.8369\n",
            "Epoch 69/100\n",
            "7500/7500 [==============================] - 2s 294us/step - loss: 0.4005 - acc: 0.8340\n",
            "Epoch 70/100\n",
            "7500/7500 [==============================] - 2s 294us/step - loss: 0.4004 - acc: 0.8340\n",
            "Epoch 71/100\n",
            "7500/7500 [==============================] - 2s 291us/step - loss: 0.4003 - acc: 0.8355\n",
            "Epoch 72/100\n",
            "7500/7500 [==============================] - 2s 289us/step - loss: 0.4004 - acc: 0.8360\n",
            "Epoch 73/100\n",
            "7500/7500 [==============================] - 2s 289us/step - loss: 0.4001 - acc: 0.8341\n",
            "Epoch 74/100\n",
            "7500/7500 [==============================] - 2s 289us/step - loss: 0.4008 - acc: 0.8344\n",
            "Epoch 75/100\n",
            "7500/7500 [==============================] - 2s 290us/step - loss: 0.4008 - acc: 0.8344\n",
            "Epoch 76/100\n",
            "7500/7500 [==============================] - 2s 289us/step - loss: 0.4002 - acc: 0.8360\n",
            "Epoch 77/100\n",
            "7500/7500 [==============================] - 2s 291us/step - loss: 0.4001 - acc: 0.8347\n",
            "Epoch 78/100\n",
            "7500/7500 [==============================] - 2s 288us/step - loss: 0.4006 - acc: 0.8360\n",
            "Epoch 79/100\n",
            "7500/7500 [==============================] - 2s 292us/step - loss: 0.4004 - acc: 0.8341\n",
            "Epoch 80/100\n",
            "7500/7500 [==============================] - 2s 292us/step - loss: 0.4004 - acc: 0.8343\n",
            "Epoch 81/100\n",
            "7500/7500 [==============================] - 2s 290us/step - loss: 0.4006 - acc: 0.8343\n",
            "Epoch 82/100\n",
            "7500/7500 [==============================] - 2s 287us/step - loss: 0.4003 - acc: 0.8353\n",
            "Epoch 83/100\n",
            "7500/7500 [==============================] - 2s 288us/step - loss: 0.4001 - acc: 0.8344\n",
            "Epoch 84/100\n",
            "7500/7500 [==============================] - 2s 287us/step - loss: 0.4002 - acc: 0.8357\n",
            "Epoch 85/100\n",
            "7500/7500 [==============================] - 2s 289us/step - loss: 0.4004 - acc: 0.8343\n",
            "Epoch 86/100\n",
            "7500/7500 [==============================] - 2s 287us/step - loss: 0.4001 - acc: 0.8348\n",
            "Epoch 87/100\n",
            "7500/7500 [==============================] - 2s 287us/step - loss: 0.4003 - acc: 0.8347\n",
            "Epoch 88/100\n",
            "7500/7500 [==============================] - 2s 288us/step - loss: 0.4003 - acc: 0.8357\n",
            "Epoch 89/100\n",
            "7500/7500 [==============================] - 2s 290us/step - loss: 0.4005 - acc: 0.8343\n",
            "Epoch 90/100\n",
            "7500/7500 [==============================] - 2s 290us/step - loss: 0.4002 - acc: 0.8341\n",
            "Epoch 91/100\n",
            "7500/7500 [==============================] - 2s 289us/step - loss: 0.4001 - acc: 0.8340\n",
            "Epoch 92/100\n",
            "7500/7500 [==============================] - 2s 288us/step - loss: 0.4003 - acc: 0.8353\n",
            "Epoch 93/100\n",
            "7500/7500 [==============================] - 2s 292us/step - loss: 0.4005 - acc: 0.8344\n",
            "Epoch 94/100\n",
            "7500/7500 [==============================] - 2s 289us/step - loss: 0.4005 - acc: 0.8343\n",
            "Epoch 95/100\n",
            "7500/7500 [==============================] - 2s 294us/step - loss: 0.4004 - acc: 0.8355\n",
            "Epoch 96/100\n",
            "7500/7500 [==============================] - 2s 309us/step - loss: 0.4005 - acc: 0.8344\n",
            "Epoch 97/100\n",
            "7500/7500 [==============================] - 2s 304us/step - loss: 0.4000 - acc: 0.8348\n",
            "Epoch 98/100\n",
            "7500/7500 [==============================] - 2s 305us/step - loss: 0.4007 - acc: 0.8335\n",
            "Epoch 99/100\n",
            "7500/7500 [==============================] - 2s 305us/step - loss: 0.4001 - acc: 0.8351\n",
            "Epoch 100/100\n",
            "7500/7500 [==============================] - 2s 297us/step - loss: 0.4005 - acc: 0.8332\n"
          ],
          "name": "stdout"
        },
        {
          "output_type": "execute_result",
          "data": {
            "text/plain": [
              "<keras.callbacks.History at 0x7fa4e7e50630>"
            ]
          },
          "metadata": {
            "tags": []
          },
          "execution_count": 9
        }
      ]
    },
    {
      "cell_type": "code",
      "metadata": {
        "id": "yUd60OBVxndp",
        "colab_type": "code",
        "colab": {
          "base_uri": "https://localhost:8080/",
          "height": 136
        },
        "outputId": "90139d9d-16d0-4661-d08e-8f7c597a4b8a"
      },
      "source": [
        "y_pred=classifier.predict(x_test)\n",
        "y_pred=(y_pred>0.5)\n",
        "y_pred"
      ],
      "execution_count": 10,
      "outputs": [
        {
          "output_type": "execute_result",
          "data": {
            "text/plain": [
              "array([[False],\n",
              "       [False],\n",
              "       [False],\n",
              "       ...,\n",
              "       [False],\n",
              "       [False],\n",
              "       [False]])"
            ]
          },
          "metadata": {
            "tags": []
          },
          "execution_count": 10
        }
      ]
    },
    {
      "cell_type": "code",
      "metadata": {
        "id": "n6wo_Lx4xndy",
        "colab_type": "code",
        "colab": {},
        "outputId": "4d60c0ca-9558-4469-9325-86abb8ef1f17"
      },
      "source": [
        "from sklearn.metrics import confusion_matrix\n",
        "cm=confusion_matrix(y_pred, y_test)\n",
        "cm"
      ],
      "execution_count": 0,
      "outputs": [
        {
          "output_type": "execute_result",
          "data": {
            "text/plain": [
              "array([[1929,  328],\n",
              "       [  62,  181]])"
            ]
          },
          "metadata": {
            "tags": []
          },
          "execution_count": 24
        }
      ]
    },
    {
      "cell_type": "code",
      "metadata": {
        "id": "YrNCoTtpxneC",
        "colab_type": "code",
        "colab": {
          "base_uri": "https://localhost:8080/",
          "height": 34
        },
        "outputId": "af2584d1-47a9-41bf-ffca-68a8121fcfe1"
      },
      "source": [
        "(1929+181)/2500"
      ],
      "execution_count": 11,
      "outputs": [
        {
          "output_type": "execute_result",
          "data": {
            "text/plain": [
              "0.844"
            ]
          },
          "metadata": {
            "tags": []
          },
          "execution_count": 11
        }
      ]
    },
    {
      "cell_type": "code",
      "metadata": {
        "id": "1lQ6UngbxneL",
        "colab_type": "code",
        "colab": {}
      },
      "source": [
        ""
      ],
      "execution_count": 0,
      "outputs": []
    }
  ]
}